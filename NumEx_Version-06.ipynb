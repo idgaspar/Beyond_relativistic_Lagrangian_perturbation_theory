{
 "cells": [
  {
   "cell_type": "markdown",
   "id": "5e4c82d9",
   "metadata": {},
   "source": [
    "#  Quasi-spherical Szekeres models and Generalized Relativistic Zel'dovich Approximation\n",
    "\n",
    "**Created by: Ismael Delgado Gaspar \n This research was funded by National Science Centre (NCN, Poland) under the Sonata-15 research grant UMO-2019/35/D/ST9/00342**\n",
    "\n",
    "**Last update:** October 2, 2022"
   ]
  },
  {
   "cell_type": "markdown",
   "id": "c02440b9",
   "metadata": {},
   "source": [
    "# Description: \n",
    "\n",
    "This notebook contains the code used to generate the figures shown in *Section Numerical Example* of the paper *Delgado Gaspar, Buchert and Ostrowski (2022)*. It intends to provide a pedagogical introduction to GRZA as a generalization of Szekeres models.\n",
    "\n",
    "This notebook is organized as follows.\n",
    "\n",
    "- **Section 1: Quasi-spherical Szekeres models in Hellaby's parametrization.** In this section, we introduced the Szekeres 'seed model' in Hellaby's parametrization setting up its free functions. This LTB-like parametrization is the most popular representation of the quasi-spherical models of class I. And our intuition (at least mine) works better here.\n",
    "\n",
    "- **Section 2: GW parametrization.** The seed model is rewritten in the GW language.\n",
    "\n",
    "- **Section 3: GRZA solutions.** We use the functions of the rescaled Szekeres model and perturb the initial data. The new solution can be interpreted as a generalization of the quasi-spherical Szekeres models, where the surfaces of $t,r=\\hbox{const.}$ are 2-spheres but arranged in a more general way than in Szekeres.\n",
    "\n",
    "- **Section 4: Estimation of the error via the Ham. constraint.** We exploit the relationship between the present models and the exact solutions to work out a closed-form expression for $\\mathbb{H}:= \\left(G_{\\mu\\nu}-8\\pi T_{\\mu\\nu}\\right) u^\\mu u^\\nu=  G_{00}-8\\pi T_{00}$. Here, we evaluate the final expression.\n"
   ]
  },
  {
   "cell_type": "markdown",
   "id": "b1924fdf",
   "metadata": {},
   "source": [
    "# Section 1:  Quasi-spherical Szekeres models in Hellaby's parametrization\n",
    "\n",
    "In this representation, the line-element is given by\n",
    "\n",
    "$$ ds^2 =-dt^2 + \\frac{\\left(\\Phi_{,r}-\\Phi \\mathcal{E}_{,r}/\\mathcal{E}\\right)^2}{\\epsilon-K(r)} dr^2 +\\frac{\\Phi^2}{\\mathcal{E}^2}\\left(dp^2 + dq^2\\right) \\ , $$\n",
    "with\n",
    "$$\n",
    "\\mathcal{E}=\\frac{S(r)}{2}\\left(\\left(\\frac{p-P(r)}{S(r)}\\right)^2 + \\left(\\frac{q-Q(r)}{S(r)}\\right)^2+\\epsilon\\right) \\ .\n",
    "$$\n",
    "\n",
    "In the equations above, $\\Phi=\\Phi(t,r)$, $\\epsilon=1$ (for quasi-spherical models), and $k(r)$, $P(r)$, $Q(r)$ and $S(r)$ are arbitrary functions.\n",
    "\n",
    "The function $\\Phi$ obeys a Friedmann-like equation,\n",
    "  \n",
    "$$\n",
    "\\dot \\Phi^2=-K(r)+\\frac{2 M(r)}{\\Phi}+\\frac{1}{3}\\Lambda \\Phi^2 \\ ,\n",
    "$$\n",
    "\n",
    "which can be integrated to give \n",
    "\n",
    "$$\n",
    "t-t_{B}(r)=\\int_0^\\Phi \\frac{d\\tilde{\\Phi}}{\\sqrt{-K+2M/\\tilde{\\Phi}+\\frac{1}{3}\\Lambda \\tilde{\\Phi}^2}} \\ .\n",
    "$$\n",
    "\n",
    "Here, $M(r)$ and $t_B(r)$ are arbitrary integration functions too, which can be identified as the effective gravitational mass  and the time of the initial singularity (the bang time).\n",
    "\n",
    "*Note:* We are using natural units $G=c=1$.\n",
    "\n",
    "\n",
    "## Dimensionless Initial Contitions\n",
    "\n",
    "The initial data is specified at the last scattering time. First, we set the free parameters of the Friedmann-like reference model: $\\hat{\\varrho}_{b}(\\mathbf{r})$ is taken equal to the value of the conventional FLRW universe at the initial time.\n",
    "To work with dimensionless quantities, we take the Hubble parameter at the initial time ($H_\\ast=H(t_{ls})$) as the time scale and $\\ell=2\\times 10^{-2}$ Mpc as the characteristic length of the inhomogeneous region. Next, we introduce the following parameters and functions,\n",
    "\n",
    "\\begin{equation}\n",
    "\\tau=H_{\\ast} t \\ , \\quad \\xi=\\frac{z}{\\ell} \\ , \\quad  \\mu= \\frac{4\\pi}{3}\\frac{\\varrho}{H_{\\ast}^2} \\ , \\quad \\varkappa=\\frac{k}{H_{\\ast}^2} \\ , \\quad \\lambda=\\frac{\\Lambda}{3 H_{\\ast}^2} \\ .\n",
    "\\end{equation}\n",
    "\n",
    "In these variables, $\\mu_{bi}$ denotes the density value of the equivalent FLRW model at the initial time, and the remaining arbitrary free function of the Friedmann-like reference model is given by\n",
    "\n",
    "$$\n",
    "\\varkappa(\\xi)=\\hat{\\varkappa}(\\xi) \\xi^2 \\ ,\n",
    "\\quad \\hat{\\varkappa}(\\xi)=\\varkappa_1+\\varkappa_2 \\left(1+\\tanh 4\\left(\\xi-1/2\\right) \\right) \\ ,\n",
    "$$\n",
    "\n",
    "with $\\varkappa_1=10^{-5}$ and $\\varkappa_2=37\\times 10^{-5}$. For our analysis, we consider these functions in the interval $0 \\le\\xi\\le 1$, $-\\infty< x,y <+\\infty$. In this model, $\\xi$ should be interpreted as a radial comoving coordinate, while $x$ and $y$ are the angular coordinates.\n",
    "\n",
    "In the model presented here, we will consider:\n",
    "\n",
    "$$ \\Phi(r,\\tau_{ini})=\\xi, \\quad \\mu:=\\mu_b=\\frac{4\\pi}{3}\\frac{\\varrho_b(\\tau_{ini})}{H_{\\ast}^2} \\ .$$\n",
    "\n",
    "—at the last scattering time: $t = t_{ls}$ and $t_{ls}\\approx 4\\times10^5$ years. "
   ]
  },
  {
   "cell_type": "code",
   "execution_count": 1,
   "id": "f8fc4410",
   "metadata": {},
   "outputs": [],
   "source": [
    "import numpy as np\n",
    "\n",
    "import matplotlib.pyplot as plt\n",
    "\n",
    "from scipy import integrate\n",
    "from scipy.integrate import odeint\n",
    "from scipy.optimize import fsolve\n",
    "import scipy.interpolate\n",
    "from scipy.interpolate import UnivariateSpline"
   ]
  },
  {
   "cell_type": "markdown",
   "id": "39fc8c5a",
   "metadata": {},
   "source": [
    "## Some general functions"
   ]
  },
  {
   "cell_type": "code",
   "execution_count": 2,
   "id": "46169b62",
   "metadata": {},
   "outputs": [],
   "source": [
    "#df(r)/dr as the derivative of the spline obtained from (r_arr, f_arr)\n",
    "def SplinesDer(r_arr, f_arr):\n",
    "    fspl = UnivariateSpline(r_arr, f_arr, k=4, s=0)\n",
    "    dfspl=fspl.derivative(n=1)\n",
    "    return dfspl"
   ]
  },
  {
   "cell_type": "markdown",
   "id": "e0b37b26",
   "metadata": {},
   "source": [
    "## Constants"
   ]
  },
  {
   "cell_type": "code",
   "execution_count": 3,
   "id": "dd955d1c",
   "metadata": {},
   "outputs": [],
   "source": [
    "eps  = 1.0           #(quasi-spherical models)\n",
    "mub  = 0.5           #mu_b\n",
    "tini = 0.0           #initial time\n",
    "t0   = 22000.0       #present cosmic time\n",
    "lamb = 1.2986*1e-9   #adimensional cosmological constant\n",
    "ls   = 2e-2          #scale in Mpc r->r*ls [Mpc]\n",
    "r0 = 0               #Mesh: radial partition: r=[r0,rf].\n",
    "rf = 1"
   ]
  },
  {
   "cell_type": "markdown",
   "id": "dab5631d",
   "metadata": {},
   "source": [
    "## Mass "
   ]
  },
  {
   "cell_type": "code",
   "execution_count": 4,
   "id": "0031bf9d",
   "metadata": {},
   "outputs": [],
   "source": [
    "# Mass function\n",
    "def M(r):\n",
    "    return mub*(r**3)\n",
    "\n",
    "# Derivative of the mass function\n",
    "def dM(r):\n",
    "    return 3*mub*(r**2)"
   ]
  },
  {
   "cell_type": "markdown",
   "id": "3ad5eeaa",
   "metadata": {},
   "source": [
    "## k(r) "
   ]
  },
  {
   "cell_type": "code",
   "execution_count": 5,
   "id": "e4a41a7a",
   "metadata": {},
   "outputs": [],
   "source": [
    "# Some constants\n",
    "k1   = 5e-5         \n",
    "k2   = 39e-5\n",
    "sig1 = 1/8\n",
    "sig2 = 1/2\n",
    "\n",
    "#As in the paper k=r^2*\\kappa\n",
    "# kappa\n",
    "def kappa(r):\n",
    "    return k1+k2*(1+np.tanh(4*(r-0.5)))\n",
    "\n",
    "def k(r):\n",
    "    return (r**2)*kappa(r)\n",
    "\n",
    "#derivative of kappa\n",
    "def dkappa(r):\n",
    "    Sechx=1/np.cosh(4*(r-0.5))\n",
    "    return 4*k2*(Sechx**2)\n",
    "\n",
    "#derivative of k\n",
    "def dk(r):\n",
    "    return 2*r*kappa(r)+(r**2)*dkappa(r)"
   ]
  },
  {
   "cell_type": "code",
   "execution_count": 6,
   "id": "27215b89",
   "metadata": {},
   "outputs": [
    {
     "data": {
      "image/png": "[encoded data removed]",
      "text/plain": [
       "<Figure size 432x288 with 1 Axes>"
      ]
     },
     "metadata": {
      "needs_background": "light"
     },
     "output_type": "display_data"
    }
   ],
   "source": [
    "#kappa vs r\n",
    "nr = 50; rv_arr = np.linspace(r0, rf, nr+1)  # evenly spaced radial partition\n",
    "kappav_arr=kappa(rv_arr)\n",
    "fig, ax = plt.subplots()\n",
    "ax.plot(rv_arr,kappav_arr,color='r')\n",
    "plt.show()\n",
    "del kappav_arr, rv_arr, fig, ax"
   ]
  },
  {
   "cell_type": "markdown",
   "id": "3dd56030",
   "metadata": {},
   "source": [
    "## Szekeres dipole"
   ]
  },
  {
   "cell_type": "markdown",
   "id": "e491c937",
   "metadata": {},
   "source": [
    "<p> Three out of the five Szekeres'unknown functions are related to the Szekeres dipole: $P(r)$, $Q(r)$, $S(r)$. However, in this parametrization, the physically important quantities are their gradients: $P_{,r}$, $Q_{,r}$ and $S_{,r}$: </p>\n",
    "\n",
    "$$\\kappa \\varrho=\\frac{2\\left(M_{,r}-3M \\mathcal{E}_{,r}/\\mathcal{E}\\right)}{\\Phi^2\\left(\\Phi_{,r}-\\Phi \\mathcal{E}_{,r}/\\mathcal{E}\\right)}$$\n",
    "\n",
    "<p> If $P(r),Q(r), S(r)=$const, then neither $\\varrho$ nor the evolution equation for $\\Phi$ depend on them, and the model becomes the LTB model.</p>\n",
    "\n",
    "See *K. Bolejko. \"Structure formation in the quasispherical Szekeres model.\" Physical Review D (2006)*\n",
    "\n",
    "Here, we take $S=1$, so all the structures (extrema of the density) lie in the equatorial plane.\n",
    "\n",
    "$$\n",
    "\\mathcal{E}=\\frac{S}{2}\\left(\\left(\\frac{p-P}{S}\\right)^2 + \\left(\\frac{q-Q}{S}\\right)^2+\\epsilon\\right) \\ .\n",
    "$$\n",
    "\n",
    "*R. Sussman and I. Delgado Gaspar Physical Review D (2015)*\n",
    "\n",
    "Also, the functions $Q$ and $P$ are defined as cubic polynomials. This makes it easier to build the dipole as a piecewise function with continuous derivatives (zero at the matching spheres). "
   ]
  },
  {
   "cell_type": "markdown",
   "id": "b43a81dd",
   "metadata": {},
   "source": [
    "## Polynomial coefficients\n",
    "\n",
    "$$\\mathcal{P}(r)=c_0+c_1 r +c_2 r^2 +c_3 r^3\n",
    "\\\\\n",
    "\\mathcal{P}(r_0)=q_0 \\ , \\quad \\mathcal{P}(r_f)=P_0 \\ , \\quad \\mathcal{P}^\\prime(r_0)=\\mathcal{P}^\\prime(r_f)=0$$"
   ]
  },
  {
   "cell_type": "code",
   "execution_count": 7,
   "id": "02d64350",
   "metadata": {},
   "outputs": [],
   "source": [
    "# c0,c1,c2 and c3 for a polinomial function satisfying:\n",
    "#Pol(r1)=q0 and Pol(r2)=Q0 \n",
    "#and Pol'(r1)=Pol'(r2)=0\n",
    "\n",
    "def Coeff(r1,r2,q0,Q0):\n",
    "    c0=-(-Q0*(r1**3) + 3*Q0*(r1**2)*r2 - 3*q0*r1*(r2**2) + q0*(r2**3))/((r1-r2)**3)\n",
    "    c1=-(6*(q0-Q0)*r1*r2)/((r1-r2)**3)\n",
    "    c2=(3*(q0 - Q0)*(r1+r2))/((r1-r2)**3)\n",
    "    c3=-(2*(q0-Q0))/((r1-r2)**3)\n",
    "    return [c0,c1,c2,c3]\n",
    "\n",
    "def Pol(r,polcoeff):\n",
    "    pol = polcoeff[0] + polcoeff[1]*r + polcoeff[2]*(r**2)+ polcoeff[3]*(r**3)\n",
    "    return pol\n",
    "\n",
    "def DPol(r,polcoeff):\n",
    "    dpol = polcoeff[1] + 2*polcoeff[2]*r + 3*polcoeff[3]*(r**2)\n",
    "    return dpol"
   ]
  },
  {
   "cell_type": "markdown",
   "id": "5faf866b",
   "metadata": {},
   "source": [
    "We explicitly assume that $S\\equiv1$"
   ]
  },
  {
   "cell_type": "code",
   "execution_count": 8,
   "id": "51d004ae",
   "metadata": {},
   "outputs": [],
   "source": [
    "p01=0.0\n",
    "P01 = -6e-1\n",
    "polcoeff=Coeff(r0,rf,p01,P01)\n",
    "\n",
    "#Piecewise functions\n",
    "def P(r):\n",
    "    if 0<=r<=rf:\n",
    "        Pv=Pol(r,polcoeff)\n",
    "    else:\n",
    "        Pv=0\n",
    "    return Pv\n",
    "\n",
    "def Q(r):\n",
    "    return 0\n",
    "\n",
    "\n",
    "def dP(r):\n",
    "    if 0<=r<=rf:\n",
    "        dPv=DPol(r,polcoeff)\n",
    "    else:\n",
    "        dPv=0\n",
    "    return dPv\n",
    "\n",
    "def dQ(r):\n",
    "    return 0"
   ]
  },
  {
   "cell_type": "markdown",
   "id": "0de0fec9",
   "metadata": {},
   "source": [
    "Dipole functions:\n",
    "$$\n",
    "\\mathcal{E}=\\frac{S}{2}\\left(\\left(\\frac{p-P}{S}\\right)^2 + \\left(\\frac{q-Q}{S}\\right)^2+\\epsilon\\right) \\ .\n",
    "$$\n",
    "and $\\mathcal{E}_{,r}$ taking $S=1$."
   ]
  },
  {
   "cell_type": "code",
   "execution_count": 9,
   "id": "c6648688",
   "metadata": {},
   "outputs": [],
   "source": [
    "def E(r,x,y):\n",
    "    return (1/2)*((x-P(r))**2+(y-Q(r))**2+eps)\n",
    "\n",
    "def dE(r,x,y): # Using S=1!!!!\n",
    "    return -(x-P(r))*dP(r)-(y-Q(r))*dQ(r)"
   ]
  },
  {
   "cell_type": "markdown",
   "id": "48a140e2",
   "metadata": {},
   "source": [
    "## Stereographic projection\n",
    "\n",
    "We use a stereographic projection to transform the angular variables $p$ and $q$ into the angular variables of a sphere. Since $S=1$, we have:\n",
    "\n",
    "$$\n",
    "x-P=\\cot\\left(\\frac{\\theta}{2}\\right)\\cos (\\phi) \\ , \n",
    "\\quad \n",
    "y-Q=\\cot\\left(\\frac{\\theta}{2}\\right)\\sin (\\phi) \\ .\n",
    "$$"
   ]
  },
  {
   "cell_type": "code",
   "execution_count": 10,
   "id": "435810ac",
   "metadata": {},
   "outputs": [],
   "source": [
    "def CotF(x):\n",
    "    return 1/np.tan(x)\n",
    "\n",
    "def Xcoor(r,phi,theta):\n",
    "    return P(r)+np.cos(phi)*CotF(theta/2)\n",
    "\n",
    "def Ycoor(r,phi,theta):\n",
    "    return Q(r)+np.sin(phi)*CotF(theta/2)"
   ]
  },
  {
   "cell_type": "markdown",
   "id": "340b36c0",
   "metadata": {},
   "source": [
    "# Section 2: GW parametrization"
   ]
  },
  {
   "cell_type": "markdown",
   "id": "5725b30b",
   "metadata": {},
   "source": [
    "In our case, $k=r^2 \\kappa(r)\\;$, \n",
    "$$\n",
    "f=\\sqrt{k}=\\sqrt{\\kappa} r \\ , \\;\n",
    "\\Phi_{ini}=r \\ ,\\; M=\\mu_b r^3 \n",
    "\\quad\n",
    "\\implies\n",
    "\\quad\n",
    "\\mathcal{S}_{ini}=\\frac{1}{\\sqrt{\\kappa}} \\quad\n",
    "\\land\n",
    "\\quad\n",
    "\\hat{\\mu}= \\frac{\\mu_b}{\\kappa^{3/2}}\n",
    "$$"
   ]
  },
  {
   "cell_type": "code",
   "execution_count": 11,
   "id": "75c4e13f",
   "metadata": {},
   "outputs": [],
   "source": [
    "def f(r):\n",
    "    return np.sqrt(k(r))\n",
    "\n",
    "def df(r):\n",
    "    sqka=np.sqrt(kappa(r))\n",
    "    Dka=dkappa(r)\n",
    "    return sqka + r*Dka/(2*sqka)\n",
    "\n",
    "def fa(r):\n",
    "    return np.sqrt(kappa(r))\n",
    "\n",
    "def Sini(r):\n",
    "    return 1/np.sqrt(kappa(r))\n",
    "\n",
    "def muGW(r):\n",
    "    return mub/(fa(r)**3)   #mu/(k_aux)**(3/2)\n",
    "\n",
    "def dmuGW(r):\n",
    "    Ka=kappa(r)\n",
    "    Dka=dkappa(r)\n",
    "    return -(3*mub*Dka)/(2*Ka**(5/2)) \n",
    "\n",
    "def Wmf(r):\n",
    "    return np.sqrt(1-k(r))"
   ]
  },
  {
   "cell_type": "markdown",
   "id": "182c3ad2",
   "metadata": {},
   "source": [
    "## Definition $\\beta_+$"
   ]
  },
  {
   "cell_type": "markdown",
   "id": "e839ad96",
   "metadata": {},
   "source": [
    " $\\beta_+=-f\\frac{k_0 \\hat{\\mu}_{,r}}{3 \\hat{\\mu}}$"
   ]
  },
  {
   "cell_type": "code",
   "execution_count": 12,
   "id": "3a48c7ad",
   "metadata": {},
   "outputs": [],
   "source": [
    "def betaP(r): \n",
    "    fv=f(r)\n",
    "    mu=muGW(r)\n",
    "    dmu=dmuGW(r)\n",
    "    return -fv*dmu/(3*mu)"
   ]
  },
  {
   "cell_type": "markdown",
   "id": "a4e32251",
   "metadata": {},
   "source": [
    "## Definition of $\\beta_+$"
   ]
  },
  {
   "cell_type": "markdown",
   "id": "dc648723",
   "metadata": {},
   "source": [
    "$\\beta_-=f \\, t_{B}^\\prime$"
   ]
  },
  {
   "cell_type": "code",
   "execution_count": null,
   "id": "f16c2e76",
   "metadata": {},
   "outputs": [],
   "source": [
    "#Integrand.  m is a parameter parameter of the integral.\n",
    "def FriedGW_int(s,mu):\n",
    "    return 1/np.sqrt(-1+2*mu/s+(lamb)*s**2);\n",
    "\n",
    "#Integrate S=0 to S=S_{ini}.\n",
    "def inttBGW(r):\n",
    "    sini=Sini(r)\n",
    "    mu=muGW(r)\n",
    "    #intet,err=integrate.quad(fintK, r0, rv, args=(mvar,kc,))\n",
    "    intet=integrate.quad(FriedGW_int, 0, sini, args=(mu,))[0]\n",
    "    return -intet\n",
    "\n",
    "nr = 100; rv_arr = np.linspace(r0, rf, nr+1)  # evenly spaced radial partition\n",
    "tBGW_arr=[inttBGW(r) for r in rv_arr]\n",
    "dtB=SplinesDer(rv_arr, tBGW_arr)\n",
    "\n",
    "del nr, tBGW_arr, rv_arr, FriedGW_int, inttBGW"
   ]
  },
  {
   "cell_type": "code",
   "execution_count": null,
   "id": "7566f00f",
   "metadata": {},
   "outputs": [],
   "source": [
    "def betaM(r):\n",
    "    return f(r)*dtB(r)"
   ]
  },
  {
   "cell_type": "markdown",
   "id": "cb51fec2",
   "metadata": {},
   "source": [
    "## Definition of $\\mathcal{A}$"
   ]
  },
  {
   "cell_type": "markdown",
   "id": "c5eb1e9c",
   "metadata": {},
   "source": [
    "$$\n",
    "C_0(r)=\\frac{1}{2\\mathcal{S}}\n",
    " \\ , \\quad C_1(r)=-\\frac{P}{2\\mathcal{S}} \\ , \n",
    "\\quad  C_2(r)=-\\frac{Q}{2\\mathcal{S}} \\ , \n",
    "\\quad\n",
    "C_3(r)=\\frac{P^2+Q^2+\\epsilon\\, \\mathcal{S}^2}{2\\mathcal{S}} \\ .\n",
    "$$\n",
    "\n",
    "Then, $e^\\nu =\\frac{f}{\\mathcal{E}}$ and $ f \\nu_{,r} = f_{,r}-f\\frac{\\mathcal{E}_{,r}}{\\mathcal{E}}$\n",
    "\n",
    " $$\\mathcal{A} = f \\nu_{,r} -k_0 \\beta_+= f_{,r}-f\\frac{\\mathcal{E}_{,r}}{\\mathcal{E}}  -k_0 \\beta_+$$"
   ]
  },
  {
   "cell_type": "code",
   "execution_count": 13,
   "id": "fd5d2788",
   "metadata": {},
   "outputs": [],
   "source": [
    "def Axy(r,x,y):\n",
    "    fv=f(r)\n",
    "    dfv=df(r)\n",
    "    Ev=E(r,x,y)\n",
    "    dEv=dE(r,x,y)\n",
    "    bp =betaP(r)\n",
    "    return dfv-fv*dEv/Ev-bp\n",
    "\n",
    "def etonu(r,x,y):\n",
    "    return f(r)/E(r,x,y)"
   ]
  },
  {
   "cell_type": "markdown",
   "id": "c8dd509b",
   "metadata": {},
   "source": [
    "## Initial condition of the decaying solution ($f_-$) "
   ]
  },
  {
   "cell_type": "markdown",
   "id": "12748653",
   "metadata": {},
   "source": [
    " $f_-=\\frac{\\dot{\\mathcal{S}}}{\\mathcal{S}}$\n",
    "\n",
    "At $t=t_{ini}=0$: $\\mathcal{S}_{ini}=\\frac{1}{\\sqrt{k_{aux}}}$ \n",
    "and \n",
    "$\n",
    "\\dot{\\mathcal{S}}_{ini}=\\left(-k_0 + \\frac{2 \\mu}{\\mathcal{S}_{ini}} +\\frac{\\Lambda}{3}\\mathcal{S}^2_{ini}\\right)^{1/2}\n",
    "$"
   ]
  },
  {
   "cell_type": "code",
   "execution_count": 16,
   "id": "e6b39fc1",
   "metadata": {},
   "outputs": [],
   "source": [
    "def dotSini_func(r):\n",
    "    mu=muGW(r)\n",
    "    Si=Sini(r)\n",
    "    return np.sqrt(-1+2*mu/Si+lamb*(Si**2)) # We're assuming k>0, \n",
    "                                                # then k0=1\n",
    "\n",
    "def fm_func(r):\n",
    "    dotSi=dotSini_func(r)\n",
    "    Si=Sini(r)\n",
    "    return dotSi/Si"
   ]
  },
  {
   "cell_type": "markdown",
   "id": "bf11fd82",
   "metadata": {},
   "source": [
    "## Initial condition of the growing solution ($f_+$) "
   ]
  },
  {
   "cell_type": "markdown",
   "id": "4894f203",
   "metadata": {},
   "source": [
    "$f_+=\\frac{\\dot{\\mathcal{S}}}{\\mathcal{S}}\\int_0^{\\mathcal{S}_{ini}}\\frac{d\\hat{\\mathcal{S}}}{\\dot{(\\hat{\\mathcal{S}}})^3}$\n",
    "\n",
    "At $t=t_{ini}=0$: $\\mathcal{S}_{ini}=\\frac{1}{\\sqrt{k_{aux}}}  \\quad \\mbox{and} \\quad\n",
    "\\dot{\\mathcal{S}}=\\left(-k_0 + \\frac{2 \\mu}{\\mathcal{S}} +\\lambda\\mathcal{S}^2\\right)^{1/2}\n",
    "$"
   ]
  },
  {
   "cell_type": "code",
   "execution_count": 17,
   "id": "1e095371",
   "metadata": {},
   "outputs": [],
   "source": [
    "#Integrand. kval=k(r)and m=M(r), parameters of the integral.\n",
    "def intdSto3(s,mu):\n",
    "    ds=np.sqrt(-1+2*mu/s+lamb*(s**2)) #k0=1\n",
    "    return 1/ds**3 \n",
    "\n",
    "#Integrate Phi=0 to Phi=r.\n",
    "def intGrowMod(r):\n",
    "    mu=muGW(r)\n",
    "    #intet,err=integrate.quad(fintK, r0, rv, args=(mvar,kc,))\n",
    "    intet=integrate.quad(intdSto3, 0, Sini(r), args=(mu,))[0]\n",
    "    return intet\n",
    "\n",
    "\n",
    "def fp_func(r):\n",
    "    intev=intGrowMod(r)\n",
    "    fmv=fm_func(r)\n",
    "    return fmv*intev"
   ]
  },
  {
   "cell_type": "markdown",
   "id": "6572cbd9",
   "metadata": {},
   "source": [
    "## Initial condition for the time derivative of the growing decaying solutions ($\\dot{f}_\\pm$) "
   ]
  },
  {
   "cell_type": "markdown",
   "id": "0860071c",
   "metadata": {},
   "source": [
    "$$\n",
    " \\dot{f}_+(t_{\\tiny{\\mbox{ini}}}) =\\frac{1}{\\mathcal{S}_{\\tiny{\\mbox{ini}}}\\dot{\\mathcal{S}}_{\\tiny{\\mbox{ini}}}}\\left(1 +\\left(k_0-\\frac{3\\mu}{\\mathcal{S}_{\\tiny{\\mbox{ini}}}}\\right) f_+(t_{\\tiny{\\mbox{ini}}})\\right) \\ ;\n",
    "\\qquad\n",
    " \\dot{f}_- (t_{\\tiny{\\mbox{ini}}})= \\frac{1}{\\mathcal{S}_{\\tiny{\\mbox{ini}}}\\dot{\\mathcal{S}}_{\\tiny{\\mbox{ini}}}}\\left(k_0-\\frac{3\\mu}{\\mathcal{S}_{\\tiny{\\mbox{ini}}}}\\right)\\, f_-(t_{\\tiny{\\mbox{ini}}}) \\ .\n",
    "$$"
   ]
  },
  {
   "cell_type": "code",
   "execution_count": 18,
   "id": "df840b88",
   "metadata": {},
   "outputs": [],
   "source": [
    "def dotfPini_func(r):\n",
    "    mu=muGW(r)\n",
    "    Si=Sini(r)\n",
    "    dSi=dotSini_func(r)\n",
    "    fpini=fp_func(r)\n",
    "    return (1/(Si*dSi))*(1+(1-3*mu/Si)*fpini)\n",
    "\n",
    "def dotfMini_func(r):\n",
    "    mu=muGW(r)\n",
    "    Si=Sini(r)\n",
    "    dSi=dotSini_func(r)\n",
    "    fmini=fm_func(r)\n",
    "    return (1/(Si*dSi))*(1-3*mu/Si)*fmini"
   ]
  },
  {
   "cell_type": "markdown",
   "id": "0cdf6d01",
   "metadata": {},
   "source": [
    "## Integration of EE's equations\n",
    "\n",
    "$$\n",
    "\\dot{\\mathcal{S}}=\\sqrt{-k_0 + \\frac{2 \\mu}{\\mathcal{S}} +\\frac{\\Lambda}{3}\\mathcal{S}^2}\n",
    "\\\\\n",
    "\\ddot{f}_\\pm + 2\\frac{\\dot{\\mathcal{S}}}{\\mathcal{S}}\\dot{f}_\\pm-\\frac{3\\mu}{\\mathcal{S}^3} f_\\pm=0\n",
    "$$"
   ]
  },
  {
   "cell_type": "code",
   "execution_count": 19,
   "id": "9d1a67ae",
   "metadata": {},
   "outputs": [],
   "source": [
    "def EEsGW(var_arr,t,r):\n",
    "    s =var_arr[0]\n",
    "    fp=var_arr[1]\n",
    "    dfp=var_arr[2]\n",
    "    fm=var_arr[3]\n",
    "    dfm=var_arr[4]\n",
    "    mu=muGW(r)\n",
    "    ds=np.sqrt(-1+2*mu/s+(lamb)*(s**2)) \n",
    "    d2fp=-2*(ds/s)*dfp+(3*mu/s**3)*fp\n",
    "    d2fm=-2*(ds/s)*dfm+(3*mu/s**3)*fm\n",
    "    dvar_arr=[ds,dfp,d2fp,dfm,d2fm]\n",
    "    return dvar_arr\n",
    "\n",
    "\n",
    "def SolEEGW(r,t):\n",
    "    Si=Sini(r)\n",
    "    fpini=fp_func(r)\n",
    "    dfpini=dotfPini_func(r)\n",
    "    fmini=fm_func(r)\n",
    "    dfmini=dotfMini_func(r)\n",
    "    tarr=np.linspace(tini,t,5)\n",
    "    ICs_arr=[Si,fpini,dfpini,fmini,dfmini]\n",
    "    sol=odeint(EEsGW,ICs_arr,tarr,args=(r,))\n",
    "    SolS=sol[-1,0];Solfp=sol[-1,1];Soldfp=sol[-1,2];Solfm=sol[-1,3];Soldfm=sol[-1,4]\n",
    "    return [SolS,Solfp,Soldfp,Solfm,Soldfm]"
   ]
  },
  {
   "cell_type": "markdown",
   "id": "7af14945",
   "metadata": {},
   "source": [
    "## Some plots"
   ]
  },
  {
   "cell_type": "code",
   "execution_count": 20,
   "id": "61a4516c",
   "metadata": {},
   "outputs": [],
   "source": [
    "#Return \\delta \\rho (t) along the ray phi=const, theta =pi/2\n",
    "def rhoGWRPhi(t,phi,nr,rhobt0):\n",
    "    theta=np.pi/2\n",
    "    R_arr=[]\n",
    "    dc_arr=[]\n",
    "    r_arr=np.linspace(r0, rf, nr+1)\n",
    "    for r in r_arr:\n",
    "        mu=muGW(r)\n",
    "        sol=SolEEGW(r,t)\n",
    "        s=sol[0]\n",
    "        bp=betaP(r)\n",
    "        bm=betaM(r)\n",
    "        fp=sol[1]\n",
    "        fm=sol[3]\n",
    "        F=bp*fp+bm*fm\n",
    "        rhoAux=(mu/s**3)\n",
    "        #\n",
    "        xv=Xcoor(r,phi,theta)\n",
    "        yv=Ycoor(r,phi,theta)\n",
    "        A=Axy(r,xv,yv)\n",
    "        #\n",
    "        rho=6*rhoAux*(1+F/(A-F))\n",
    "        dc=rho/rhobt0-1\n",
    "        Phi=s*f(r)*ls\n",
    "        R_arr.append(Phi)\n",
    "        dc_arr.append(dc)\n",
    "    return R_arr, dc_arr"
   ]
  },
  {
   "cell_type": "code",
   "execution_count": 21,
   "id": "412cb97c",
   "metadata": {},
   "outputs": [
    {
     "data": {
      "image/png": "[encoded data removed]",
      "text/plain": [
       "<Figure size 432x288 with 1 Axes>"
      ]
     },
     "metadata": {
      "needs_background": "light"
     },
     "output_type": "display_data"
    }
   ],
   "source": [
    "rhobt0=2.83487774323234e-09\n",
    "nr=60 \n",
    "phi1=0; phi2=np.pi/2;\n",
    "\n",
    "PhiGWv_arr   = rhoGWRPhi(t0,phi1,nr,rhobt0)[0]\n",
    "dcGWPhi0_arr = rhoGWRPhi(t0,phi1,nr,rhobt0)[1]\n",
    "dcGWPhipi2_arr = rhoGWRPhi(t0,phi2,nr,rhobt0)[1]\n",
    "\n",
    "fig,ax=plt.subplots()\n",
    "plt.plot(PhiGWv_arr, dcGWPhi0_arr, 'k--', color='black', \n",
    "         label='Sze $\\phi=0$')\n",
    "plt.plot(PhiGWv_arr, dcGWPhipi2_arr, 'k:', color='black', \n",
    "         label='Sze $\\phi=\\pi/2$')\n",
    "\n",
    "ax.set(xlabel=\"Area radius $[Mpc]$\",\n",
    "       ylabel=\"$\\delta$\",title=\"Density contrast\")\n",
    "\n",
    "plt.legend()\n",
    "plt.show()\n",
    "\n",
    "del rhobt0, nr, phi1, phi2, PhiGWv_arr, dcGWPhi0_arr, dcGWPhipi2_arr, fig, ax"
   ]
  },
  {
   "cell_type": "markdown",
   "id": "61278283",
   "metadata": {},
   "source": [
    "# Section 3: Generalized RZA\n",
    "\n",
    "\n",
    "The Gram's matrix (initial metric) is taken as\n",
    "$$\n",
    "G_{ij}=\n",
    "\\mbox{Diag}\\left[\\left(\\mathcal{A}-\\hat{\\mathcal{F}}_{ini}\\right)^2\\left(\\frac{\\mathcal{W}} {\\chi}\\right)^2 ,\n",
    "\\left(\\frac{e^\\nu}{\\chi}\\right)^2  ,\n",
    "\\left(\\frac{e^\\nu}{\\chi}\\right)^2\\right]= \n",
    "\\mbox{Diag}\\left[\\left(\\mathcal{A}-\\hat{\\mathcal{F}}_{ini}\\right)^2\\left(\\frac{\\mathcal{W}} {\\chi}\\right)^2 ,\n",
    "\\left(\\frac{r}{\\mathcal{E}}\\right)^2  ,\n",
    "\\left(\\frac{r}{\\mathcal{E}}\\right)^2\\right]\n",
    "$$\n",
    "where the metric functions $e^\\nu$, $\\mathcal{A}$ and $\\mathcal{W}$ are chosen as in Szekeres models with $S(\\xi)=1$, $Q(\\xi)=0$ and $P(\\xi)$ is a third order polynomial function satisfying $P(0)=P^\\prime(0)=P^\\prime(\\xi_1)=0$ and $P(\\xi_1)=-0.6$. Moreover,  $\\hat{\\mathcal{F}}_{ini}$ is the initial value of the function \n",
    "\\begin{equation}\\label{Eq:FapproxID}\n",
    "\\hat{\\mathcal{F}}=\\mathcal{F}+\\delta \\mathcal{F} \\ ,\\quad \\delta \\mathcal{F}=\\delta \\beta_+ f_+ + \\delta \\beta_- f_-  \\ .\n",
    "\\end{equation}\n",
    "Here, $\\mathcal{F}=\\beta_+ f_+ + \\beta_- f_-$ is the Szekeres function, and  \n",
    " $\\delta\\beta_\\pm(\\mathbf{r})$ are arbitrary functions of the spatial coordinates, $\\mathbf{r}=\\left(\\xi,x,y\\right)$. In this simulation, we take\n",
    "$$\n",
    "\\delta \\beta_+(\\mathbf{r})=\\alpha \\sin^3(\\gamma \\pi y) \\sin^4(\\pi \\xi) \\ ,\n",
    "$$\n",
    "with $\\gamma=3$, and vary $\\alpha$. Also, in order to have a model where the voids compensate for the mass excess in the overdensities (i.e., a mass-compensated array of structures), $\\delta\\beta_-(\\mathbf{r})$ satisfies\n",
    "$$\n",
    "\\delta\\beta_-(\\mathbf{r})=-\\frac{\\delta\\beta_+ f_+(t_{ini},\\xi)}{f_-(t_{ini},\\xi)} \\ .\n",
    "$$\n",
    "%\n",
    "Then, the initial energy density is set to\n",
    "$$\n",
    "\\varrho_{ini}=\\varrho_b(t_{ini})\\left(\\frac{\\mathcal{A}}{\\mathcal{A}-\\hat{\\mathcal{F}}_{ini}}\\right) \\ ,\n",
    "$$\n",
    "which determines the generalized Newtonian acceleration,\n",
    "$$\n",
    "W=-4\\pi\\frac{\\hat{\\mathcal{F}}_{ini}}{\\mathcal{A}-\\hat{\\mathcal{F}}_{ini}}  \\ .\n",
    "$$\n",
    "The whole set is close by the initial values of the deformation, $P(t_{ini})=0$, and the generalized Newtonian velocity,\n",
    "\\begin{equation}\n",
    "U=-\\frac{\\dot{\\hat{\\mathcal{F}}}_{ini}}{\\mathcal{A}-\\hat{\\mathcal{F}}_{ini}} \\ .\n",
    "\\end{equation}\n"
   ]
  },
  {
   "cell_type": "code",
   "execution_count": 22,
   "id": "71af54d9",
   "metadata": {},
   "outputs": [],
   "source": [
    "def Chi(r):\n",
    "    return np.sqrt(kappa(r))\n",
    "\n",
    "def Aini(r):\n",
    "    return 1\n",
    "\n",
    "def dAini(r):\n",
    "    return np.sqrt(-kappa(r)+2*mub/Aini(r)+lamb*Aini(r)**2)\n",
    "\n",
    "#fMi\n",
    "def fMiGZ(r):\n",
    "    return fm_func(r)\n",
    "\n",
    "def bmGZ(r):\n",
    "    return betaM(r)\n",
    "\n",
    "def bpGZ(r):\n",
    "    return betaP(r)\n",
    "\n",
    "\n",
    "#Integrand. kval=k(r)and m=M(r), parameters of the integral.\n",
    "def intdAto3(Av,kv):\n",
    "    ds=np.sqrt(-kv+2*mub/Av+lamb*(Av**2)) #k0=1\n",
    "    return 1/ds**3 \n",
    "\n",
    "#Integrate Phi=0 to Phi=r.\n",
    "def intGrowModA(r):\n",
    "    kv=kappa(r)\n",
    "    #intet,err=integrate.quad(fintK, r0, rv, args=(mvar,kc,))\n",
    "    intet=integrate.quad(intdAto3, 0, Aini(r), args=(kv,))[0]\n",
    "    Chiv=Chi(r)\n",
    "    return (Chiv**3)*intet #### chi**3\n",
    "\n",
    "def fPiGZ(r):\n",
    "    return fMiGZ(r)*intGrowModA(r)\n",
    "\n",
    "def dotfPiGZ(r):\n",
    "    Chiv=Chi(r)\n",
    "    ai=Aini(r)\n",
    "    dai=dAini(r)\n",
    "    return (1/(ai*dai))*(Chiv**2+(kappa(r)-3*mub/ai)*fPiGZ(r))\n",
    "\n",
    "def dotfMiGZ(r):\n",
    "    ai=Aini(r)\n",
    "    dai=dAini(r)\n",
    "    return (1/(ai*dai))*(kappa(r)-3*mub/ai)*fMiGZ(r)"
   ]
  },
  {
   "cell_type": "markdown",
   "id": "9052d9bc",
   "metadata": {},
   "source": [
    "## Perturbation ($\\delta \\beta_\\pm$)"
   ]
  },
  {
   "cell_type": "code",
   "execution_count": 23,
   "id": "a95cb2d0",
   "metadata": {},
   "outputs": [],
   "source": [
    "gamma = 3\n",
    "\n",
    "def dbetap(r, x, y, alpha):\n",
    "    pi=np.pi\n",
    "    sinv1=np.sin(gamma*pi*y)\n",
    "    sinv2=np.sin(pi*r)\n",
    "    return alpha*(sinv1**3)*(sinv2**4)\n",
    "\n",
    "def dbetam(r, x, y, alpha):\n",
    "    fmi=bmGZ(r)\n",
    "    if fmi!=0:\n",
    "        fpi=fPiGZ(r)\n",
    "        deltaBp=dbetap(r, x, y, alpha)\n",
    "        dbm=-deltaBp*fpi/fmi\n",
    "    else:\n",
    "        dbm=0\n",
    "    return dbm"
   ]
  },
  {
   "cell_type": "markdown",
   "id": "9c48c6a3",
   "metadata": {},
   "source": [
    "## Background curvature at $t=t_{ini}$"
   ]
  },
  {
   "cell_type": "markdown",
   "id": "1eefd8d2",
   "metadata": {},
   "source": [
    "The Volume element is given by:\n",
    "$$ d^3 V_D=\\sqrt{G} J d^3 \\mathbf{x}= \\sqrt{G} A^3 (1+P) d^3 \\mathbf{x} $$\n",
    "\\begin{equation}\n",
    "G_{ij}=\n",
    "\\mbox{Diag}\\left[\\left(\\mathcal{A}-\\hat{\\mathcal{F}}_{ini}\\right)^2\\left(\\frac{\\mathcal{W}} {\\chi}\\right)^2 ,\n",
    "\\left(\\frac{r}{\\mathcal{E}}\\right)^2  ,\n",
    "\\left(\\frac{r}{\\mathcal{E}}\\right)^2\\right]  \\Rightarrow \\sqrt{G}\n",
    "=\\frac{\\left(\\mathcal{A}-\\hat{\\mathcal{F}}_{ini}\\right) r^{2} \\mathcal{W}}{\\chi \\mathcal{E}^2}\n",
    "\\end{equation}\n",
    "\n",
    "From the Hamiltonian constraint and the relation of the Szekeres functions:\n",
    "$$\n",
    "\\mathcal{R}=6\\frac{\\kappa}{A^2}-\\frac{4}{\\mathcal{J}}\\left(H \\dot{P} + \\frac{3\\mu_{b} }{A^{3} }P +\\frac{\\mathcal{W}}{A^{3}}\\right)  \n",
    "$$"
   ]
  },
  {
   "cell_type": "code",
   "execution_count": 24,
   "id": "9ff3c04a",
   "metadata": {},
   "outputs": [],
   "source": [
    "#Functions R_{ini}, dV_{ini} and R_{ini}*dV_{ini} (used below as the integrand )\n",
    "def R3iniHam(r,x,y,alpha):\n",
    "    kv=kappa(r)\n",
    "    bpi=bpGZ(r)\n",
    "    bmi=bmGZ(r)\n",
    "    fpi=fPiGZ(r)\n",
    "    fmi=fMiGZ(r)\n",
    "    dfpi=dotfPiGZ(r)\n",
    "    dfmi=dotfMiGZ(r)\n",
    "    FSzi=bpi*fpi+bmi*fmi\n",
    "    dFSzi=bpi*dfpi+bmi*dfmi\n",
    "    AiSz=Axy(r,x,y)\n",
    "    #Perturbation\n",
    "    deltaBp=dbetap(r, x, y, alpha)\n",
    "    deltaBm=dbetam(r, x, y, alpha)      \n",
    "    Fi=FSzi+deltaBp*fpi+deltaBm*fmi\n",
    "    dFi=dFSzi+deltaBp*dfpi+deltaBm*dfmi\n",
    "    Ai=AiSz-deltaBp\n",
    "    #ICs\n",
    "    Pi=0\n",
    "    dPi=-dFi/(Ai-Fi)\n",
    "    ai=Aini(r)\n",
    "    Hi=dAini(r)/Aini(r)\n",
    "    Wv=- 3*mub*(Fi/(Ai-Fi))\n",
    "    r3=6*kappa(r)/ai**2-(4/(1+Pi))*(Hi*dPi+3*(mub/ai**3)*Pi+Wv/ai**3)\n",
    "    return r3\n",
    "\n",
    "def dVDini(r,x,y,alpha):\n",
    "    bpi=bpGZ(r)\n",
    "    bmi=bmGZ(r)\n",
    "    fpi=fPiGZ(r)\n",
    "    fmi=fMiGZ(r)\n",
    "    FSzi=bpi*fpi+bmi*fmi\n",
    "    AiSz=Axy(r,x,y)\n",
    "    Chiv=Chi(r)\n",
    "    #Perturbation\n",
    "    deltaBp=dbetap(r, x, y, alpha)\n",
    "    deltaBm=dbetam(r, x, y, alpha)       \n",
    "    Fi=FSzi+deltaBp*fpi+deltaBm*fmi\n",
    "    Ai=AiSz-deltaBp\n",
    "    Ev=E(r,x,y)\n",
    "    Wmi=Wmf(r)\n",
    "    dv=(Ai-Fi)*Wmi*(r**2)/(Chiv*Ev**2)\n",
    "    return dv\n",
    "\n",
    "def dvdr3ini(r, x, y, alpha):\n",
    "    dvi=dVDini(r, x, y, alpha)\n",
    "    r3i=R3iniHam(r, x, y, alpha)\n",
    "    return dvi*r3i"
   ]
  },
  {
   "cell_type": "markdown",
   "id": "b86dcebb",
   "metadata": {},
   "source": [
    " Then, \n",
    " $$k_B=\\frac{\\langle\\mathcal{R}\\rangle_D(t_i)}{6}$$\n",
    " $$V_D(t_i)=\\int_{D_i} \\sqrt{G}d^3\\mathbf{x} \\ , \\quad\n",
    "I_1(t_i)=\\int_{D_i} \\mathcal{R}(t_i) \\sqrt{G}d^3\\mathbf{x}\\ ,\\quad \n",
    "\\langle\\mathcal{R}\\rangle_D(t_i)=\\frac{1}{V_{Di}}\\int_{D_i} \\mathcal{R}(t_i) \\sqrt{G}d^3\\mathbf{x}$$"
   ]
  },
  {
   "cell_type": "code",
   "execution_count": 25,
   "id": "d8d000c7",
   "metadata": {},
   "outputs": [],
   "source": [
    "def kbV_Dini(alpha,err):\n",
    "    intvINI=integrate.tplquad(dVDini,\\\n",
    "                       -np.inf, np.inf,                              # y limits\n",
    "                       lambda y: -np.inf, lambda y: np.inf,          # x limits\n",
    "                       lambda y,x: r0, lambda y,x: rf, \\\n",
    "                       epsabs=err, epsrel=err,args=(alpha,))         # r limits\n",
    "    VDi=intvINI[0]\n",
    "    # integral I_1(t_i)\n",
    "    intvr3INI=integrate.tplquad(dvdr3ini,\\\n",
    "                       -np.inf, np.inf,                              # y limits\n",
    "                       lambda y: -np.inf, lambda y: np.inf,          # x limits\n",
    "                       lambda y,x: r0, lambda y,x: rf, \\\n",
    "                       epsabs=err, epsrel=err,args=(alpha,))         # r limits\n",
    "    I1i=intvr3INI[0]\n",
    "    #K_B\n",
    "    kB=intvr3INI[0]/(6*intvINI[0])\n",
    "    return kB, VDi"
   ]
  },
  {
   "cell_type": "markdown",
   "id": "fbad51e4",
   "metadata": {},
   "source": [
    "## Solving master trace evolution equation + Friedmann-like one"
   ]
  },
  {
   "cell_type": "code",
   "execution_count": 26,
   "id": "d7efeb8f",
   "metadata": {},
   "outputs": [],
   "source": [
    "def EEsGZA(var_arr,t,kv,Wv):\n",
    "    a  = var_arr[0]\n",
    "    P  = var_arr[1]\n",
    "    dP = var_arr[2]\n",
    "    da = np.sqrt(-kv+2*mub/a+(lamb)*(a**2))\n",
    "    d2P= -2*(da/a)*dP+(3*mub/a**3)*P+Wv/a**3\n",
    "    dvar_arr=[da,dP,d2P]\n",
    "    return dvar_arr"
   ]
  },
  {
   "cell_type": "markdown",
   "id": "9bb651a5",
   "metadata": {},
   "source": [
    "## Initial conditions WL $(r,x,y)$: $[A(t_{ini}), P(t_{ini}), \\dot{P}(t_{ini})]$"
   ]
  },
  {
   "cell_type": "code",
   "execution_count": 27,
   "id": "74a99364",
   "metadata": {},
   "outputs": [],
   "source": [
    "def ICsWL(r,x,y,alpha):\n",
    "    ai=Aini(r)\n",
    "    kv=kappa(r)\n",
    "    bpi=bpGZ(r)\n",
    "    bmi=bmGZ(r)\n",
    "    fpi=fPiGZ(r)\n",
    "    fmi=fMiGZ(r)\n",
    "    dfpi=dotfPiGZ(r)\n",
    "    dfmi=dotfMiGZ(r)\n",
    "    FSzi=bpi*fpi+bmi*fmi\n",
    "    dFSzi=bpi*dfpi+bmi*dfmi\n",
    "    AiSz=Axy(r,x,y)\n",
    "    #Perturbation\n",
    "    deltaBp=dbetap(r, x, y, alpha)\n",
    "    deltaBm=dbetam(r, x, y, alpha)       # to compensate \n",
    "    Fi=FSzi+deltaBp*fpi+deltaBm*fmi\n",
    "    dFi=dFSzi+deltaBp*dfpi+deltaBm*dfmi\n",
    "    Ai=AiSz-deltaBp\n",
    "    #ICs\n",
    "    Pi=0\n",
    "    dPi=-dFi/(Ai-Fi)\n",
    "    Wv=- 3*mub*(Fi/(Ai-Fi)) #4 pi rho= 3 mub\n",
    "    #\n",
    "    ICs=[ai,Pi,dPi]\n",
    "    return [ICs,kv,Wv]"
   ]
  },
  {
   "cell_type": "markdown",
   "id": "12d008ae",
   "metadata": {},
   "source": [
    "## Solution at $t=teval$ for WL $(r,x,y)$: $[A, P, \\dot{P}]$"
   ]
  },
  {
   "cell_type": "code",
   "execution_count": 28,
   "id": "b16d1b08",
   "metadata": {},
   "outputs": [],
   "source": [
    "def GRZASolWL(teval, r, x, y, alpha):\n",
    "    IiniCond=ICsWL(r, x, y, alpha)\n",
    "    ICsA_arr=IiniCond[0]\n",
    "    kv=IiniCond[1]\n",
    "    Wv=IiniCond[2]\n",
    "    t_arr= np.linspace(tini,teval,10)\n",
    "    sol=odeint(EEsGZA,ICsA_arr,t_arr,args=(kv,Wv,))\n",
    "    #        A        P            dP\n",
    "    return [sol[-1,0],sol[-1,1],sol[-1,2]]"
   ]
  },
  {
   "cell_type": "markdown",
   "id": "0c4b0249",
   "metadata": {},
   "source": [
    "## Background Evolution"
   ]
  },
  {
   "cell_type": "code",
   "execution_count": 29,
   "id": "09dfa148",
   "metadata": {},
   "outputs": [],
   "source": [
    "def dadt(a, t, kB):\n",
    "    Dadt = np.sqrt(-kB+2*mub/a+lamb*(a**2))\n",
    "    return Dadt\n",
    "\n",
    "def rhobt(t, kB):\n",
    "    aini=1.0\n",
    "    tarr  = np.linspace(tini,t,2)\n",
    "    a0 = odeint(dadt,aini,tarr,args=(kB,))[-1,0] #array of \\Phi(t0,ri) values\n",
    "    return 6*mub/(a0**3) # 8 pi rho_b recall mub=(4 pi/3) rho/H^2"
   ]
  },
  {
   "cell_type": "markdown",
   "id": "f3683507",
   "metadata": {},
   "source": [
    "## Density contrast \n",
    "$$8 \\pi \\varrho_{ini}/H_\\ast^2=6 \\mu_{ini}$$"
   ]
  },
  {
   "cell_type": "code",
   "execution_count": 30,
   "id": "024fc9f1",
   "metadata": {},
   "outputs": [],
   "source": [
    "def RhoIni(r, x, y, alpha): # 8 \\pi \\varrho_{ini}\n",
    "        #Szekeres functions fr the initial density\n",
    "        ASz=Axy(r, x, y)\n",
    "        bp=betaP(r)\n",
    "        bm=betaM(r)\n",
    "        fp=fPiGZ(r)\n",
    "        fm=fMiGZ(r)       \n",
    "        FSz=bp*fp+bm*fm\n",
    "        #Perturbation\n",
    "        deltaBp=dbetap(r, x, y, alpha)\n",
    "        deltaBm=dbetam(r, x, y, alpha) \n",
    "        F=FSz+deltaBp*fp+deltaBm*fm\n",
    "        A=ASz-deltaBp\n",
    "        #initial density\n",
    "        rhoi=6*mub*(A/(A-F)) #kappa * rhoi\n",
    "        return rhoi"
   ]
  },
  {
   "cell_type": "markdown",
   "id": "2f14dd58",
   "metadata": {},
   "source": [
    "## Density contrast in the equatorial plane"
   ]
  },
  {
   "cell_type": "code",
   "execution_count": 31,
   "id": "0420285b",
   "metadata": {},
   "outputs": [],
   "source": [
    "#it exports (x, y, delta) at  t.\n",
    "#file: 'str1'-XYRho.txt\n",
    "#below we use str1 to se\n",
    "\n",
    "def deltaRhoXY(t, nr, nphi, alpha, str1):\n",
    "    #background\n",
    "    err=1e-2; kB=kbV_Dini(alpha, err)[0]\n",
    "    rhob=rhobt(t, kB)\n",
    "    #arrays\n",
    "    theta=np.pi/2\n",
    "    XYRho_arr=[]\n",
    "    r_arr=np.linspace(r0, rf, nr+1)\n",
    "    phif=2*np.pi*(1-1/nphi)\n",
    "    phi_arr=np.linspace(0, phif, nphi+1)\n",
    "    for r in r_arr:\n",
    "        for phi in phi_arr:   \n",
    "            #\n",
    "            x=Xcoor(r,phi,theta)\n",
    "            y=Ycoor(r,phi,theta)\n",
    "            #\n",
    "            sol=GRZASolWL(t, r, x, y, alpha)\n",
    "            av=sol[0]; Pv=sol[1];\n",
    "            #initial density\n",
    "            rhoi=RhoIni(r, x, y, alpha)\n",
    "            #final density: jacobian\n",
    "            Jv=(av**3)*(1+Pv)\n",
    "            #we're computing kappa*\\rho\n",
    "            rhov=rhoi/Jv # 8 pi \\rho\n",
    "            #density contrast\n",
    "            dc=rhov/rhob-1\n",
    "            Rv=av*ls*r; Xpv=Rv*np.cos(phi); Ypv=Rv*np.sin(phi);\n",
    "            #append\n",
    "            XYRho_arr.append([Xpv,Ypv,dc]) \n",
    "    #export\n",
    "    stringn  =  str(str1).zfill(2)\n",
    "    filename = \"%s-XYRhoC2.txt\" % stringn\n",
    "    np.savetxt(filename, XYRho_arr, delimiter=' ')\n",
    "    return None"
   ]
  },
  {
   "cell_type": "code",
   "execution_count": 32,
   "id": "acdd0af0",
   "metadata": {},
   "outputs": [],
   "source": [
    "nr=70;  nphi=70;\n",
    "alp0=0; alpf=0.0048; nalp=6; \n",
    "alp_arr=np.linspace(alp0, alpf, nalp)"
   ]
  },
  {
   "cell_type": "code",
   "execution_count": 33,
   "id": "7ccdd71b",
   "metadata": {
    "scrolled": true
   },
   "outputs": [],
   "source": [
    "%%script false --no-raise-error #This prevent the cell from being executed\n",
    "#\n",
    "str1=0\n",
    "for alp in alp_arr:\n",
    "    deltaRhoXY(t0, nr, nphi, alp, str1)\n",
    "    str1+=1 \n",
    "    print(str1)"
   ]
  },
  {
   "cell_type": "markdown",
   "id": "0ec069e0",
   "metadata": {},
   "source": [
    "# Section 4: Estimation of the violation of the Hamiltonian constraint"
   ]
  },
  {
   "cell_type": "markdown",
   "id": "712d97cc",
   "metadata": {},
   "source": [
    "$$\n",
    "\\mathbb{H}(\\mathbf{r},t):=\n",
    "\\frac{2}{A^2 r^2 \\mathcal{W}^2}\n",
    "\\bigg[\n",
    "-\\frac{1}{2}\\left(1+\\frac{\\mathcal{G}}{\\hat{\\mathcal{G}}}\\right)\n",
    "-\\frac{1}{\\hat{\\mathcal{G}}} f \\nu_{,r}\n",
    "+\\epsilon f_{,r}\n",
    "+\\frac{f \\mathcal{G}_{,r}}{ \\hat{\\mathcal{G}}^2}\n",
    "\\bigg]\\left(1-\\frac{\\mathcal{G}}{\\hat{\\mathcal{G}}}\\right)\n",
    "-\\frac{\\mathcal{E}^2}{A^2 r^2 \\hat{\\mathcal{G}}}\\bigg[\\left(k_0+f_+\\right)\\left(\\delta\\beta_{+,xx}+\\delta\\beta_{+,yy}\\right)\n",
    "+f_-\\left(\\delta\\beta_{-,xx}+\\delta\\beta_{-,yy}\\right)\\bigg]\n",
    "+\\frac{2 f}{A^2 r^2 \\mathcal{W}^2 \\hat{\\mathcal{G}}^2} \\left(\\frac{\\mathcal{G}}{\\hat{\\mathcal{G}}}\\right)\\bigg[\\delta \\beta_+(k_0+f_+)+ \\delta \\beta_- f_- \\bigg]_{,r}.\n",
    "$$"
   ]
  },
  {
   "cell_type": "markdown",
   "id": "cceb54ea",
   "metadata": {},
   "source": [
    "## Spatial derivative of $\\delta\\beta_\\pm$"
   ]
  },
  {
   "cell_type": "code",
   "execution_count": 34,
   "id": "b800d134",
   "metadata": {},
   "outputs": [],
   "source": [
    "def dbp_xx(r, x, y, alpha):\n",
    "    return 0\n",
    "\n",
    "def dbp_yy(r, x, y, alpha):\n",
    "    pi=np.pi\n",
    "    sinvy=np.sin(gamma*pi*y)\n",
    "    sinv3y=np.sin(3*gamma*pi*y)\n",
    "    sinvr4=np.sin(pi*r)**4\n",
    "    return (-3/4)*(pi**2)*alpha*(gamma**2)*sinvr4*(sinvy-3*sinv3y)\n",
    "\n",
    "def dbp_r(r, x, y, alpha):\n",
    "    pi=np.pi\n",
    "    sinvy3=np.sin(gamma*pi*y)**3\n",
    "    sinvr3=np.sin(pi*r)**3\n",
    "    cosvr=np.cos(pi*r)\n",
    "    return 4*pi*alpha*cosvr*sinvr3*sinvy3\n",
    "\n",
    "def dbm_xx(r, x, y, alpha):\n",
    "    return 0\n",
    "\n",
    "def dbm_yy(r, x, y, alpha):\n",
    "    dbetap\n",
    "    dbpyy=dbp_yy(r, x, y, alpha)\n",
    "    fpi=fPiGZ(r)\n",
    "    fmi=fMiGZ(r)\n",
    "    return dbpyy*fpi/fmi"
   ]
  },
  {
   "cell_type": "code",
   "execution_count": 35,
   "id": "ab10ab68",
   "metadata": {},
   "outputs": [],
   "source": [
    "fPi_vec=np.vectorize(fPiGZ)\n",
    "fMi_vec=np.vectorize(fMiGZ)\n",
    "def dfPMinispl(nhr):\n",
    "    r_arr = np.linspace(r0, rf, 2*nhr+1)\n",
    "    fpi_arr=fPi_vec(r_arr)\n",
    "    fmi_arr=fMi_vec(r_arr)\n",
    "    dfPispl=SplinesDer(r_arr, fpi_arr)\n",
    "    dfMispl=SplinesDer(r_arr, fmi_arr)\n",
    "    return dfPispl, dfMispl"
   ]
  },
  {
   "cell_type": "markdown",
   "id": "581393ad",
   "metadata": {},
   "source": [
    " $\\delta\\beta_{-,r}$"
   ]
  },
  {
   "cell_type": "code",
   "execution_count": 36,
   "id": "aad33608",
   "metadata": {},
   "outputs": [],
   "source": [
    "def dbm_r(r, x, y,dfpi,dfmi, alpha):\n",
    "    dbp=dbetap(r, x, y, alpha)\n",
    "    dbpr=dbp_r(r, x, y, alpha)\n",
    "    fpi=fPiGZ(r)\n",
    "    fmi=fMiGZ(r)\n",
    "    return -(fpi/fmi)*dbpr-(dfpi/fmi)*dbp+(fpi/fmi**2)*dbp*dfmi"
   ]
  },
  {
   "cell_type": "markdown",
   "id": "86cb2314",
   "metadata": {},
   "source": [
    "## Solving EEs in a convinient way"
   ]
  },
  {
   "cell_type": "code",
   "execution_count": 37,
   "id": "56c80849",
   "metadata": {},
   "outputs": [],
   "source": [
    "def EEsLangExacSol(var_arr,t,kv,alpha):\n",
    "    a  = var_arr[0]\n",
    "    fpA=var_arr[1]\n",
    "    dfpA=var_arr[2]\n",
    "    fmA=var_arr[3]\n",
    "    dfmA=var_arr[4]    \n",
    "    da = np.sqrt(-kv+2*mub/a+(lamb)*(a**2))\n",
    "    d2fpA=-2*(da/a)*dfpA+(3*mub/a**3)*fpA\n",
    "    d2fmA=-2*(da/a)*dfmA+(3*mub/a**3)*fmA   \n",
    "    dvar_arr=[da,dfpA,d2fpA,dfmA,d2fmA]\n",
    "    return dvar_arr"
   ]
  },
  {
   "cell_type": "code",
   "execution_count": 38,
   "id": "216044dd",
   "metadata": {},
   "outputs": [],
   "source": [
    "def ICsWLLangExacSol(r,alpha):\n",
    "    ai=Aini(r)\n",
    "    kv=kappa(r)\n",
    "    fpi=fPiGZ(r)\n",
    "    fmi=fMiGZ(r)\n",
    "    dfpi=dotfPiGZ(r)\n",
    "    dfmi=dotfMiGZ(r)\n",
    "    #\n",
    "    ICs=[ai,fpi,dfpi,fmi,dfmi]\n",
    "    return [ICs,kv]"
   ]
  },
  {
   "cell_type": "code",
   "execution_count": 39,
   "id": "0f799802",
   "metadata": {},
   "outputs": [],
   "source": [
    "def solAFsExactSol(teval,r,alpha):\n",
    "    t_arr= np.linspace(tini,teval,10)\n",
    "    IiniCond=ICsWLLangExacSol(r, alpha)\n",
    "    ICsA_arr=IiniCond[0]\n",
    "    kv=IiniCond[1] \n",
    "    sol=odeint(EEsLangExacSol,ICsA_arr,t_arr,args=(kv,alpha,))[-1]\n",
    "    return sol #[a,fp,dfp,fm,dfm]"
   ]
  },
  {
   "cell_type": "markdown",
   "id": "b69bc411",
   "metadata": {},
   "source": [
    "## Radial derivatives of $f_\\pm$ and $\\mathcal{G}=\\mathcal{A}-F$"
   ]
  },
  {
   "cell_type": "code",
   "execution_count": 40,
   "id": "d7515ce1",
   "metadata": {},
   "outputs": [],
   "source": [
    "def solFsHsz(teval, phi, theta, nhr,alpha):\n",
    "    r_arr = np.linspace(r0, rf, 2*nhr+1)\n",
    "    fm_arr=[]\n",
    "    fp_arr=[]\n",
    "    HSze_arr=[]\n",
    "    for r in r_arr:\n",
    "        x=Xcoor(r,phi,theta);y=Ycoor(r,phi,theta);\n",
    "        solRS=solAFsExactSol(teval,r,alpha)\n",
    "        fp=solRS[1]\n",
    "        fm=solRS[3]\n",
    "        AiSz=Axy(r, x, y)\n",
    "        HSze=AiSz - (betaP(r)*fp+betaM(r)*fm)\n",
    "        fp_arr.append(fp)\n",
    "        fm_arr.append(fm)\n",
    "        HSze_arr.append(HSze)\n",
    "    #\n",
    "    dfPspl=SplinesDer(r_arr, fp_arr)\n",
    "    dfMspl=SplinesDer(r_arr, fm_arr)\n",
    "    dHSzespl=SplinesDer(r_arr, HSze_arr)\n",
    "    return dfPspl, dfMspl, dHSzespl"
   ]
  },
  {
   "cell_type": "markdown",
   "id": "07307048",
   "metadata": {},
   "source": [
    "## Auxiliar expression to compute Hamiltonian constraint at $(r,x,y)$"
   ]
  },
  {
   "cell_type": "code",
   "execution_count": 41,
   "id": "168e74e0",
   "metadata": {},
   "outputs": [],
   "source": [
    "def HamEq(teval, r, x, y, alpha, dfpi, dfmi, dfp, dfm, dHSz):\n",
    "    sol=solAFsExactSol(teval,r,alpha)\n",
    "    av=sol[0]\n",
    "    fp=sol[1]\n",
    "    fm=sol[3]\n",
    "    #\n",
    "    bpi=betaP(r)\n",
    "    bmi=betaM(r)\n",
    "    #\n",
    "    FSzi=bpi*fp+bmi*fm\n",
    "    AiSz=Axy(r,x,y)\n",
    "    HSz=AiSz-FSzi\n",
    "    #Perturbation\n",
    "    deltaBp=dbetap(r, x, y, alpha)\n",
    "    deltaBm=dbetam(r, x, y, alpha) \n",
    "    Fi=FSzi+deltaBp*fp+deltaBm*fm\n",
    "    Ai=AiSz-deltaBp\n",
    "    Hi=Ai-Fi\n",
    "    #\n",
    "    deltaBp_r = dbp_r(r, x, y, alpha)\n",
    "    deltaMp_r = dbm_r(r, x, y, dfpi, dfmi, alpha)\n",
    "    deltaBp_xx= dbp_xx(r, x, y, alpha)\n",
    "    deltaBp_yy= dbp_yy(r, x, y, alpha)\n",
    "    deltaMp_xx= dbm_xx(r, x, y, alpha)\n",
    "    deltaMp_yy= dbm_yy(r, x, y, alpha)\n",
    "    #\n",
    "    etonuv=etonu(r, x, y) #=f/E\n",
    "    Ev=E(r, x, y)\n",
    "    wv=Wmf(r)\n",
    "    fnur=AiSz+bpi\n",
    "    dfv=df(r)\n",
    "    fv=f(r)\n",
    "    rH=HSz/Hi\n",
    "    #\n",
    "    a2=av**2\n",
    "    fv2=fv**2\n",
    "    w2=wv**2\n",
    "    chi=Chi(r)\n",
    "    chi2=chi**2\n",
    "    Hi2=Hi**2\n",
    "    r2=r**2\n",
    "    Ev2=Ev**2\n",
    "    #\n",
    "    term1=(2/(a2*r2*w2))*(-(1+rH)/2-fnur/Hi+w2*dfv/Hi+fv*dHSz/Hi**2)*(1-rH)\n",
    "    term2=-(Ev2/(a2*r2*Hi))*((1+fp)*(deltaBp_xx+deltaBp_yy)+fm*(deltaMp_xx+deltaMp_yy))\n",
    "    term3=(2*rH*fv/(a2*w2*Hi2*r2))*(dfp*deltaBp+(1+fp)*deltaBp_r+dfm*deltaBm+fm*deltaMp_r)\n",
    "    return term1+term2+term3"
   ]
  },
  {
   "cell_type": "markdown",
   "id": "a09b951c",
   "metadata": {},
   "source": [
    "## Evaluation of the violation of Ham. const. along r for constant $\\phi$ and $\\theta$"
   ]
  },
  {
   "cell_type": "code",
   "execution_count": 42,
   "id": "0a8a3436",
   "metadata": {},
   "outputs": [],
   "source": [
    "def HamArr(t, phi, theta, alpha, nhr=70):\n",
    "    solDer=solFsHsz(t, phi, theta, nhr,alpha)\n",
    "    dfpSPL=solDer[0];dfmSPL=solDer[1];dHSzSPL=solDer[2];\n",
    "    dfPMini=dfPMinispl(nhr)\n",
    "    dfpiSPL=dfPMini[0];dfmiSPL=dfPMini[1];\n",
    "    r_arr = np.linspace(rf/nhr, rf, nhr+1)\n",
    "    ham_arr=[]\n",
    "    for r in r_arr: \n",
    "        dfp=dfpSPL(r);dfm=dfmSPL(r); dHSz=dHSzSPL(r);\n",
    "        dfpi=dfpiSPL(r);dfmi=0 #dfmiSPL(r);\n",
    "        x=Xcoor(r,phi,theta);y=Ycoor(r,phi,theta);\n",
    "        hamv=HamEq(t,r, x, y, alpha, dfpi, dfmi, dfp, dfm, dHSz)\n",
    "        ham_arr.append(hamv)\n",
    "    return r_arr, ham_arr"
   ]
  },
  {
   "cell_type": "markdown",
   "id": "eb43a583",
   "metadata": {},
   "source": [
    "## Figure 3 (in the paper)"
   ]
  },
  {
   "cell_type": "code",
   "execution_count": 43,
   "id": "2c8b9e1e",
   "metadata": {},
   "outputs": [],
   "source": [
    "theta=np.pi/2\n",
    "alpv=alp_arr[-1]"
   ]
  },
  {
   "cell_type": "markdown",
   "id": "59b1ebca",
   "metadata": {},
   "source": [
    "### Finding the $\\phi$ coordinate of the two largest overdensities"
   ]
  },
  {
   "cell_type": "code",
   "execution_count": 44,
   "id": "eab518e2",
   "metadata": {
    "scrolled": true
   },
   "outputs": [
    {
     "name": "stdout",
     "output_type": "stream",
     "text": [
      "0.00042827655832728296 -0.17368421052631577\n",
      "0.0028374823750749604 0.1736842105263158\n"
     ]
    }
   ],
   "source": [
    "#%%script false --no-raise-error #This prevent the cell from being executed\n",
    "phi_arr=np.linspace(-0.3, 0,20)\n",
    "maxh=0\n",
    "for phi in phi_arr:\n",
    "    hamvSol=HamArr(t0, phi, theta, alpv,nr)\n",
    "    ham_arr=hamvSol[1]\n",
    "    hamv=np.abs(ham_arr)\n",
    "    maxht=max(hamv)\n",
    "    if(maxh<maxht): \n",
    "        maxh=maxht;phimax1=phi;\n",
    "        \n",
    "print(maxh,phimax1)\n",
    "\n",
    "phi_arr=np.linspace(0, 0.3,20)\n",
    "maxh=0\n",
    "for phi in phi_arr:\n",
    "    hamvSol=HamArr(t0, phi, theta, alpv,nr)\n",
    "    ham_arr=hamvSol[1]\n",
    "    hamv=np.abs(ham_arr)\n",
    "    maxht=max(hamv)\n",
    "    if(maxh<maxht): \n",
    "        maxh=maxht;phimax2=phi;\n",
    "\n",
    "print(maxh,phimax2)"
   ]
  },
  {
   "cell_type": "markdown",
   "id": "bee61c97",
   "metadata": {},
   "source": [
    "### Data $\\hbox{Ham}(t_0,r)$ for $\\theta=\\pi/2$ and $\\phi=$ const."
   ]
  },
  {
   "cell_type": "markdown",
   "id": "5263560c",
   "metadata": {},
   "source": [
    "$\\hbox{Ham}(r,\\theta=\\pi/2,\\phi_i)$ vs $r$ at $t=t_0$ for $\\phi_i=[\\phi_{max}^{(1)},\\phi_{max}^{(2)},0,\\pi/4,\\pi/2,\\pi,3*\\pi/2]$**"
   ]
  },
  {
   "cell_type": "code",
   "execution_count": 45,
   "id": "0ec7343f",
   "metadata": {},
   "outputs": [],
   "source": [
    "pi=np.pi\n",
    "phi_arr=[phimax1,phimax2,0,pi/4,pi/2,pi,3*pi/2]\n",
    "\n",
    "Ham_Arr=[]\n",
    "for phi in phi_arr:\n",
    "    hamvSol=HamArr(t0, phi, theta, alpv,2*nr)\n",
    "    Ham_Arr.append(hamvSol[1])\n",
    "    \n",
    "r_arr=hamvSol[0]\n",
    "del hamvSol"
   ]
  },
  {
   "cell_type": "markdown",
   "id": "5df94271",
   "metadata": {},
   "source": [
    "## Plotting and exporting"
   ]
  },
  {
   "cell_type": "code",
   "execution_count": 46,
   "id": "bcbce280",
   "metadata": {
    "scrolled": true
   },
   "outputs": [
    {
     "data": {
      "image/png": "[encoded data removed]",
      "text/plain": [
       "<Figure size 432x288 with 1 Axes>"
      ]
     },
     "metadata": {
      "needs_background": "light"
     },
     "output_type": "display_data"
    }
   ],
   "source": [
    "label_arr=['$\\phi=\\phi_{\\\\ast}^{(1)}$','$\\phi=\\phi_{\\\\ast}^{(2)}$','$\\phi=0$','$\\phi=\\pi/4$','$\\phi=\\pi/2$','$\\phi=\\pi$','$\\phi=3\\pi/2$']\n",
    "color_arr=['red','red','k','k','b','b','y']\n",
    "styl_arr =['--','-','-.','-','-.',':',':']\n",
    "\n",
    "\n",
    "fig=plt.figure() #figsize=(8, 6))\n",
    "with plt . style . context ( [  'grid' ] ) : \n",
    "\n",
    "    for i in range(0,len(phi_arr)): \n",
    "        plt.plot(r_arr, Ham_Arr[i],styl_arr[i],color=color_arr[i],label=label_arr[i])\n",
    "\n",
    "plt.xlabel(r\"$\\xi$\", size=13)\n",
    "plt.ylabel(\"$\\mathbb{H}$\", size=13)\n",
    "\n",
    "plt.rc('font', size=9)\n",
    "plt.ticklabel_format(axis=\"y\", style=\"sci\", scilimits=(0,0))\n",
    "plt.xlim([0,1.02])\n",
    "\n",
    "\n",
    "plt.legend(label_arr,loc='upper right',)\n",
    "\n",
    "\n",
    "plt.tight_layout()\n",
    "#plt.legend()\n",
    "plt.show()\n",
    "fig.savefig('errorHamV2.pdf')"
   ]
  }
 ],
 "metadata": {
  "kernelspec": {
   "display_name": "Python 3",
   "language": "python",
   "name": "python3"
  },
  "language_info": {
   "codemirror_mode": {
    "name": "ipython",
    "version": 3
   },
   "file_extension": ".py",
   "mimetype": "text/x-python",
   "name": "python",
   "nbconvert_exporter": "python",
   "pygments_lexer": "ipython3",
   "version": "3.8.8"
  }
 },
 "nbformat": 4,
 "nbformat_minor": 5
}
